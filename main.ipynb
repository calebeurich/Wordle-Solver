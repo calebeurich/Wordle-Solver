{
 "cells": [
  {
   "cell_type": "code",
   "execution_count": null,
   "metadata": {},
   "outputs": [],
   "source": [
    "#TODO\n",
    "\n",
    "#implement logic for duplicate letters\n",
    "    #when you have a green and a yellow\n",
    "    #generally stop suggesting words with 2 of the same letter unless it actually makse sense\n",
    "    #probably a simpleish way of doing this, then one that involes deeper layers and eval of how guesses give information for later guesses."
   ]
  },
  {
   "cell_type": "code",
   "execution_count": 1,
   "metadata": {},
   "outputs": [
    {
     "name": "stderr",
     "output_type": "stream",
     "text": [
      "C:\\Users\\caleb\\AppData\\Local\\Temp\\ipykernel_23832\\205307432.py:2: DeprecationWarning: \n",
      "Pyarrow will become a required dependency of pandas in the next major release of pandas (pandas 3.0),\n",
      "(to allow more performant data types, such as the Arrow string type, and better interoperability with other libraries)\n",
      "but was not found to be installed on your system.\n",
      "If this would cause problems for you,\n",
      "please provide us feedback at https://github.com/pandas-dev/pandas/issues/54466\n",
      "        \n",
      "  import pandas as pd\n"
     ]
    }
   ],
   "source": [
    "#%pip install pandas\n",
    "import pandas as pd\n",
    "import string"
   ]
  },
  {
   "cell_type": "code",
   "execution_count": 2,
   "metadata": {},
   "outputs": [
    {
     "data": {
      "text/html": [
       "<div>\n",
       "<style scoped>\n",
       "    .dataframe tbody tr th:only-of-type {\n",
       "        vertical-align: middle;\n",
       "    }\n",
       "\n",
       "    .dataframe tbody tr th {\n",
       "        vertical-align: top;\n",
       "    }\n",
       "\n",
       "    .dataframe thead th {\n",
       "        text-align: right;\n",
       "    }\n",
       "</style>\n",
       "<table border=\"1\" class=\"dataframe\">\n",
       "  <thead>\n",
       "    <tr style=\"text-align: right;\">\n",
       "      <th></th>\n",
       "      <th>word</th>\n",
       "      <th>count</th>\n",
       "    </tr>\n",
       "  </thead>\n",
       "  <tbody>\n",
       "    <tr>\n",
       "      <th>0</th>\n",
       "      <td>the</td>\n",
       "      <td>23135851162</td>\n",
       "    </tr>\n",
       "    <tr>\n",
       "      <th>1</th>\n",
       "      <td>of</td>\n",
       "      <td>13151942776</td>\n",
       "    </tr>\n",
       "    <tr>\n",
       "      <th>2</th>\n",
       "      <td>and</td>\n",
       "      <td>12997637966</td>\n",
       "    </tr>\n",
       "    <tr>\n",
       "      <th>3</th>\n",
       "      <td>to</td>\n",
       "      <td>12136980858</td>\n",
       "    </tr>\n",
       "    <tr>\n",
       "      <th>4</th>\n",
       "      <td>a</td>\n",
       "      <td>9081174698</td>\n",
       "    </tr>\n",
       "  </tbody>\n",
       "</table>\n",
       "</div>"
      ],
      "text/plain": [
       "  word        count\n",
       "0  the  23135851162\n",
       "1   of  13151942776\n",
       "2  and  12997637966\n",
       "3   to  12136980858\n",
       "4    a   9081174698"
      ]
     },
     "execution_count": 2,
     "metadata": {},
     "output_type": "execute_result"
    }
   ],
   "source": [
    "df = pd.read_csv(\"unigram_freq.csv\")\n",
    "df.head()"
   ]
  },
  {
   "cell_type": "code",
   "execution_count": 4,
   "metadata": {},
   "outputs": [],
   "source": [
    "# Initialize a list of all lowercase letters\n",
    "all_letters = list(string.ascii_lowercase)\n",
    "filtered_df_og = df[df['word'].str.len() == 5]\n",
    "grey_letters = []\n",
    "yellow_letters = []\n",
    "green_letters = []\n",
    "guessed_words = []\n"
   ]
  },
  {
   "cell_type": "code",
   "execution_count": null,
   "metadata": {},
   "outputs": [],
   "source": [
    "#current_game class?\n",
    "    #could be good for deep calculations down the line\n",
    "\n",
    "    #also include guess number"
   ]
  },
  {
   "cell_type": "code",
   "execution_count": 6,
   "metadata": {},
   "outputs": [],
   "source": [
    "def check_grey_letters(word, grey_letters):\n",
    "    \"\"\" Check if none of the grey letters are present in the word. \"\"\"\n",
    "    return all(letter not in word for letter in grey_letters)\n",
    "\n",
    "def check_yellow_letters(word, yellow_letters):\n",
    "    \"\"\" Check if the yellow letters are present but not at the specified index. \"\"\"\n",
    "    for letter, index in yellow_letters:\n",
    "        if letter not in word or word[index] == letter:\n",
    "            return False\n",
    "    return True\n",
    "\n",
    "def check_green_letters(word, green_letters):\n",
    "    \"\"\" Check if the green letters are at the specified index. \"\"\"\n",
    "    for letter, index in green_letters:\n",
    "        if index >= len(word) or word[index] != letter:\n",
    "            return False\n",
    "    return True\n",
    "\n",
    "\n",
    "#worst first guess tech of all time\n",
    "def guess(\n",
    "    filtered_df,\n",
    "    # pruned_words,\n",
    "    all_letters,\n",
    "    grey_letters,\n",
    "    yellow_letters,\n",
    "    green_letters,\n",
    "    # guessed_words,\n",
    "):\n",
    "# Apply the filters\n",
    "    filtered_df_out = filtered_df[\n",
    "        filtered_df['word'].apply(lambda word: \n",
    "                                check_grey_letters(word, grey_letters) and \n",
    "                                check_yellow_letters(word, yellow_letters) and \n",
    "                                check_green_letters(word, green_letters))\n",
    "    ]\n",
    "\n",
    "    # Find the index of the row with the highest count\n",
    "    max_count_index = filtered_df_out['count'].idxmax()\n",
    "\n",
    "    # Retrieve the word with the highest count\n",
    "    word_with_highest_count = filtered_df_out.loc[max_count_index, 'word']\n",
    "\n",
    "    return word_with_highest_count"
   ]
  },
  {
   "cell_type": "code",
   "execution_count": 24,
   "metadata": {},
   "outputs": [],
   "source": [
    "#testing variables\n",
    "grey_letters = [\"a\", \"d\", \"i\", \"u\", \"t\", \"h\", \"p\", \"o\", \"w\", \"n\", \"v\", \"f\"]\n",
    "yellow_letters = []\n",
    "green_letters = [(\"e\", 3), (\"r\", 4)]"
   ]
  },
  {
   "cell_type": "code",
   "execution_count": 25,
   "metadata": {},
   "outputs": [
    {
     "name": "stdout",
     "output_type": "stream",
     "text": [
      "cyber\n"
     ]
    }
   ],
   "source": [
    "print(guess(\n",
    "    filtered_df_og,\n",
    "    all_letters,\n",
    "    grey_letters,\n",
    "    yellow_letters,\n",
    "    green_letters,\n",
    "))"
   ]
  },
  {
   "cell_type": "code",
   "execution_count": null,
   "metadata": {},
   "outputs": [],
   "source": [
    "#functions needed\n",
    "\n",
    "#guess (all info) -> optimal word to guess\n",
    "#process_guess(returned info) -> update all arrays\n",
    "#helper functions to update all arrays and calculate behind the scenes\n",
    "#\n",
    "#\n"
   ]
  }
 ],
 "metadata": {
  "kernelspec": {
   "display_name": "Python 3",
   "language": "python",
   "name": "python3"
  },
  "language_info": {
   "codemirror_mode": {
    "name": "ipython",
    "version": 3
   },
   "file_extension": ".py",
   "mimetype": "text/x-python",
   "name": "python",
   "nbconvert_exporter": "python",
   "pygments_lexer": "ipython3",
   "version": "3.9.13"
  }
 },
 "nbformat": 4,
 "nbformat_minor": 2
}
